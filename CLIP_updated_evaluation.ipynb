{
  "cells": [
    {
      "cell_type": "code",
      "execution_count": 65,
      "id": "b5X3nmLFLe30",
      "metadata": {
        "colab": {
          "base_uri": "https://localhost:8080/"
        },
        "id": "b5X3nmLFLe30",
        "outputId": "cbd43674-d1fb-47d9-fa09-9bde78eb6ba5"
      },
      "outputs": [
        {
          "name": "stdout",
          "output_type": "stream",
          "text": [
            "Mounted at /content/drive\n"
          ]
        }
      ],
      "source": [
        "from google.colab import drive\n",
        "drive.mount('/content/drive', force_remount=True)"
      ]
    },
    {
      "cell_type": "code",
      "execution_count": null,
      "id": "-XLLHapnOe_9",
      "metadata": {
        "colab": {
          "base_uri": "https://localhost:8080/"
        },
        "collapsed": true,
        "id": "-XLLHapnOe_9",
        "outputId": "1d46c095-56b4-4f4e-dbe1-a25b0a99669c"
      },
      "outputs": [],
      "source": [
        "pip install git+https://github.com/openai/CLIP.git"
      ]
    },
    {
      "cell_type": "code",
      "execution_count": null,
      "id": "AJV93BVfT4Za",
      "metadata": {
        "colab": {
          "base_uri": "https://localhost:8080/"
        },
        "collapsed": true,
        "id": "AJV93BVfT4Za",
        "outputId": "b1ce71f2-2127-4849-d3af-f85d7950525e"
      },
      "outputs": [],
      "source": [
        "pip install clip"
      ]
    },
    {
      "cell_type": "code",
      "execution_count": 68,
      "id": "HAlLexDPT7ak",
      "metadata": {
        "colab": {
          "base_uri": "https://localhost:8080/"
        },
        "id": "HAlLexDPT7ak",
        "outputId": "528f301f-bcbe-4c95-f11c-656cc0c551f5"
      },
      "outputs": [
        {
          "name": "stdout",
          "output_type": "stream",
          "text": [
            "Requirement already satisfied: emoji in /usr/local/lib/python3.11/dist-packages (2.14.1)\n"
          ]
        }
      ],
      "source": [
        "pip install emoji"
      ]
    },
    {
      "cell_type": "code",
      "execution_count": 69,
      "id": "zCi80lO8ZDGU",
      "metadata": {
        "colab": {
          "base_uri": "https://localhost:8080/"
        },
        "id": "zCi80lO8ZDGU",
        "outputId": "bf93c176-0421-4a40-b26b-80a2aba17a5e"
      },
      "outputs": [
        {
          "name": "stdout",
          "output_type": "stream",
          "text": [
            "Requirement already satisfied: grapheme in /usr/local/lib/python3.11/dist-packages (0.6.0)\n"
          ]
        }
      ],
      "source": [
        "pip install grapheme"
      ]
    },
    {
      "cell_type": "code",
      "execution_count": null,
      "id": "TyirBcdcb2jo",
      "metadata": {
        "colab": {
          "base_uri": "https://localhost:8080/"
        },
        "id": "TyirBcdcb2jo",
        "outputId": "d29408e6-1380-4e68-adac-3c68931eb0b5"
      },
      "outputs": [],
      "source": [
        "pip install rouge-score"
      ]
    },
    {
      "cell_type": "code",
      "execution_count": 71,
      "id": "c43b951f",
      "metadata": {
        "id": "c43b951f"
      },
      "outputs": [],
      "source": [
        "import matplotlib.pyplot as plt\n",
        "import torch\n",
        "import clip\n",
        "from PIL import Image\n",
        "from tqdm import tqdm"
      ]
    },
    {
      "cell_type": "code",
      "execution_count": 72,
      "id": "2ab7feb0",
      "metadata": {
        "id": "2ab7feb0"
      },
      "outputs": [],
      "source": [
        "import pandas as pd\n",
        "import numpy as np\n",
        "import ast\n",
        "import grapheme\n",
        "import emoji\n",
        "import torch\n",
        "from sklearn.metrics.pairwise import cosine_similarity"
      ]
    },
    {
      "cell_type": "markdown",
      "id": "R9hCSvjrjn0-",
      "metadata": {
        "id": "R9hCSvjrjn0-"
      },
      "source": [
        "Basic CLIP for single Emoji"
      ]
    },
    {
      "cell_type": "code",
      "execution_count": null,
      "id": "4c927b11-9c50-4335-9117-48eaa4659eb3",
      "metadata": {
        "colab": {
          "base_uri": "https://localhost:8080/"
        },
        "id": "4c927b11-9c50-4335-9117-48eaa4659eb3",
        "outputId": "86650ec3-0c78-4bf5-df67-8ac44eb8a500"
      },
      "outputs": [
        {
          "name": "stdout",
          "output_type": "stream",
          "text": [
            "Input: speaking_head → Predicted Emojis: ['🗣️', '🗣️', '🗣️']\n"
          ]
        }
      ],
      "source": [
        "datapath = \"/content/drive/MyDrive/CLIP/ELCo.csv\"\n",
        "df = pd.read_csv(datapath)\n",
        "\n",
        "df[\"Description\"] = df[\"Description\"].apply(lambda x: ast.literal_eval(x) if isinstance(x, str) else x)\n",
        "\n",
        "text_data = [\" \".join(desc[:5]) for desc in df[\"Description\"]]\n",
        "\n",
        "df[\"EM_Text\"] = df[\"EM\"].apply(lambda x: emoji.demojize(x, delimiters=(\" \", \" \")))\n",
        "emoji_char_data = df[\"EM\"].tolist()  \n",
        "\n",
        "device = \"cuda\" if torch.cuda.is_available() else \"cpu\"\n",
        "model, preprocess = clip.load(\"ViT-B/32\", device=device)\n",
        "\n",
        "text_features = model.encode_text(\n",
        "    clip.tokenize(text_data, truncate=True).to(device)\n",
        ").detach().cpu().numpy()\n",
        "\n",
        "def retrieve_top_k_emojis(query_text, k=3):\n",
        "    query_embedding = model.encode_text(clip.tokenize([query_text], truncate=True).to(device)).detach().cpu().numpy()\n",
        "    similarities = cosine_similarity(query_embedding, text_features)[0]\n",
        "    top_k_indices = np.argsort(-similarities)[:k]\n",
        "    top_k_emojis = []\n",
        "    for i in top_k_indices:\n",
        "        emojis = list(grapheme.graphemes(emoji_char_data[i])) \n",
        "        top_k_emojis.append(emojis[0])  \n",
        "    return top_k_emojis\n",
        "\n",
        "# Example \n",
        "query = \"speaking_head\"\n",
        "predicted_emojis = retrieve_top_k_emojis(query, k=3)\n",
        "print(f\"Input: {query} → Predicted Emojis: {predicted_emojis}\")"
      ]
    },
    {
      "cell_type": "code",
      "execution_count": null,
      "id": "T2iJMa8xYJTE",
      "metadata": {
        "colab": {
          "base_uri": "https://localhost:8080/"
        },
        "id": "T2iJMa8xYJTE",
        "outputId": "62a81301-2cda-49d6-908b-e78f512c0221"
      },
      "outputs": [
        {
          "name": "stdout",
          "output_type": "stream",
          "text": [
            "✅ncoder Cosine Similarity: 0.7457\n"
          ]
        }
      ],
      "source": [
        "# encoder evaluation using cosine similarity\n",
        "def evaluate_encoder():\n",
        "    similarities = []\n",
        "\n",
        "    for text, emoji_gt in zip(df[\"Description\"], df[\"EM_Text\"]):\n",
        "        predicted_emoji_text = retrieve_top_k_emojis(\" \".join(text[:5]), k=1)[0] \n",
        "\n",
        "        if predicted_emoji_text and emoji_gt:\n",
        "            predicted_embedding = model.encode_text(clip.tokenize([predicted_emoji_text]).to(device)).detach().cpu().numpy()\n",
        "            ground_truth_embedding = model.encode_text(clip.tokenize([emoji_gt]).to(device)).detach().cpu().numpy()\n",
        "            sim_score = cosine_similarity(predicted_embedding, ground_truth_embedding)[0][0]\n",
        "            similarities.append(sim_score)\n",
        "\n",
        "    if similarities:\n",
        "        avg_similarity = np.mean(similarities)\n",
        "        print(f\"Encoder Cosine Similarity: {avg_similarity:.4f}\")\n",
        "    else:\n",
        "        print(\"No valid similarity scores computed!\")\n",
        "\n",
        "evaluate_encoder()"
      ]
    },
    {
      "cell_type": "code",
      "execution_count": null,
      "id": "6bd4d1fe-b2b5-4be9-89dc-ab97e5c6d8f0",
      "metadata": {
        "colab": {
          "base_uri": "https://localhost:8080/"
        },
        "id": "6bd4d1fe-b2b5-4be9-89dc-ab97e5c6d8f0",
        "outputId": "6fdd6674-181d-4bb5-82f2-d9ed97404e7e"
      },
      "outputs": [
        {
          "name": "stdout",
          "output_type": "stream",
          "text": [
            "BLEU Score: 0.3126\n",
            "METEOR Score: 0.2400\n",
            "ROUGE-L Score: 0.6030\n"
          ]
        }
      ],
      "source": [
        "\n",
        "from nltk.translate.bleu_score import sentence_bleu, SmoothingFunction\n",
        "from nltk.translate.meteor_score import meteor_score\n",
        "from rouge_score import rouge_scorer\n",
        "\n",
        "smoothie = SmoothingFunction().method4\n",
        "\n",
        "def emoji_to_text(emoji_char):\n",
        "    return emoji.demojize(emoji_char, delimiters=(\" \", \" \"))\n",
        "\n",
        "def evaluate_decoder():\n",
        "    bleu_scores, meteor_scores, rouge_scores = [], [], []\n",
        "\n",
        "    for text, emoji_gt in zip(df[\"Description\"], df[\"EM\"]):\n",
        "        predicted_emoji = retrieve_top_k_emojis(\" \".join(text[:5]), k=1)[0]\n",
        "\n",
        "        predicted_text = emoji_to_text(predicted_emoji)\n",
        "        ground_truth_text = emoji_to_text(emoji_gt)\n",
        "\n",
        "        predicted_tokens = predicted_text.split()\n",
        "        ground_truth_tokens = ground_truth_text.split()\n",
        "\n",
        "        bleu = sentence_bleu([ground_truth_tokens], predicted_tokens, smoothing_function=smoothie)\n",
        "\n",
        "        meteor = meteor_score([ground_truth_tokens], predicted_tokens)\n",
        "\n",
        "        rouge = rouge_scorer.RougeScorer(['rougeL'], use_stemmer=True)\n",
        "        rouge_l = rouge.score(\" \".join(ground_truth_tokens), \" \".join(predicted_tokens))['rougeL'].fmeasure\n",
        "\n",
        "        bleu_scores.append(bleu)\n",
        "        meteor_scores.append(meteor)\n",
        "        rouge_scores.append(rouge_l)\n",
        "\n",
        "    avg_bleu = sum(bleu_scores) / len(bleu_scores)\n",
        "    avg_meteor = sum(meteor_scores) / len(meteor_scores)\n",
        "    avg_rouge = sum(rouge_scores) / len(rouge_scores)\n",
        "\n",
        "    print(f\"BLEU Score: {avg_bleu:.4f}\")\n",
        "    print(f\"METEOR Score: {avg_meteor:.4f}\")\n",
        "    print(f\"ROUGE-L Score: {avg_rouge:.4f}\")\n",
        "\n",
        "\n",
        "evaluate_decoder()"
      ]
    },
    {
      "cell_type": "markdown",
      "id": "y39qYa6Fjs-2",
      "metadata": {
        "id": "y39qYa6Fjs-2"
      },
      "source": [
        "Emoji comibination using CLIP"
      ]
    },
    {
      "cell_type": "code",
      "execution_count": 110,
      "id": "87c7d827-8715-4a10-80da-4a59851b0b8e",
      "metadata": {
        "colab": {
          "base_uri": "https://localhost:8080/",
          "height": 424
        },
        "id": "87c7d827-8715-4a10-80da-4a59851b0b8e",
        "outputId": "8443e553-9ab4-4d3f-cc16-73dddc8a5b8b"
      },
      "outputs": [
        {
          "data": {
            "application/vnd.google.colaboratory.intrinsic+json": {
              "summary": "{\n  \"name\": \"df\",\n  \"rows\": 1655,\n  \"fields\": [\n    {\n      \"column\": \"text\",\n      \"properties\": {\n        \"dtype\": \"string\",\n        \"num_unique_values\": 1623,\n        \"samples\": [\n          \"The bright sun shines brilliantly over the horizon, illuminating the sky with its warm glow at sunrise and sunset.\",\n          \"\\\"People often find flies, cockroaches, and spiders to be common nuisances.\\\"\",\n          \"\\\"Your immediate influence is at the top of everyone's mind.\\\"\"\n        ],\n        \"semantic_type\": \"\",\n        \"description\": \"\"\n      }\n    },\n    {\n      \"column\": \"emoji\",\n      \"properties\": {\n        \"dtype\": \"string\",\n        \"num_unique_values\": 1570,\n        \"samples\": [\n          \"\\ud83e\\udd1d\\ud83d\\udd4a\\ufe0f\\u262e\\ufe0f\",\n          \"\\u2668\\ufe0f\\ud83d\\ude42\\ud83d\\udc64\",\n          \"\\ud83d\\udc4e\\ud83e\\udd4a\"\n        ],\n        \"semantic_type\": \"\",\n        \"description\": \"\"\n      }\n    }\n  ]\n}",
              "type": "dataframe",
              "variable_name": "df"
            },
            "text/html": [
              "\n",
              "  <div id=\"df-735ba7c4-e18a-4c69-bbe4-4dfb32a4c7ff\" class=\"colab-df-container\">\n",
              "    <div>\n",
              "<style scoped>\n",
              "    .dataframe tbody tr th:only-of-type {\n",
              "        vertical-align: middle;\n",
              "    }\n",
              "\n",
              "    .dataframe tbody tr th {\n",
              "        vertical-align: top;\n",
              "    }\n",
              "\n",
              "    .dataframe thead th {\n",
              "        text-align: right;\n",
              "    }\n",
              "</style>\n",
              "<table border=\"1\" class=\"dataframe\">\n",
              "  <thead>\n",
              "    <tr style=\"text-align: right;\">\n",
              "      <th></th>\n",
              "      <th>text</th>\n",
              "      <th>emoji</th>\n",
              "    </tr>\n",
              "  </thead>\n",
              "  <tbody>\n",
              "    <tr>\n",
              "      <th>0</th>\n",
              "      <td>\"Dressing for success in big business leads to...</td>\n",
              "      <td>👔📈</td>\n",
              "    </tr>\n",
              "    <tr>\n",
              "      <th>1</th>\n",
              "      <td>The big business is making a lot of money!</td>\n",
              "      <td>🏢🤑🤑</td>\n",
              "    </tr>\n",
              "    <tr>\n",
              "      <th>2</th>\n",
              "      <td>A businessman collaborates with a tech expert ...</td>\n",
              "      <td>👨‍💻🤝</td>\n",
              "    </tr>\n",
              "    <tr>\n",
              "      <th>3</th>\n",
              "      <td>The office building is bustling with teamwork ...</td>\n",
              "      <td>🏢🧑‍🤝‍🧑🧑‍🤝‍🧑🧑‍🤝‍🧑</td>\n",
              "    </tr>\n",
              "    <tr>\n",
              "      <th>4</th>\n",
              "      <td>The savvy businesswoman is making a fortune in...</td>\n",
              "      <td>👩‍💻🤑</td>\n",
              "    </tr>\n",
              "    <tr>\n",
              "      <th>...</th>\n",
              "      <td>...</td>\n",
              "      <td>...</td>\n",
              "    </tr>\n",
              "    <tr>\n",
              "      <th>1650</th>\n",
              "      <td>\"Listen closely to the wise words being shared.\"</td>\n",
              "      <td>🔊🗣️</td>\n",
              "    </tr>\n",
              "    <tr>\n",
              "      <th>1651</th>\n",
              "      <td>\"Here’s some sound advice that you can really ...</td>\n",
              "      <td>👍🏻🎙🗣</td>\n",
              "    </tr>\n",
              "    <tr>\n",
              "      <th>1652</th>\n",
              "      <td>A boy is giving thoughtful advice to a girl, a...</td>\n",
              "      <td>👦🗣️👩🤔👍</td>\n",
              "    </tr>\n",
              "    <tr>\n",
              "      <th>1653</th>\n",
              "      <td>\"That's great advice, and I'm all ears!\"</td>\n",
              "      <td>👍🧏‍♀️</td>\n",
              "    </tr>\n",
              "    <tr>\n",
              "      <th>1654</th>\n",
              "      <td>\"Listening carefully and sharing wise words ca...</td>\n",
              "      <td>👂💬</td>\n",
              "    </tr>\n",
              "  </tbody>\n",
              "</table>\n",
              "<p>1655 rows × 2 columns</p>\n",
              "</div>\n",
              "    <div class=\"colab-df-buttons\">\n",
              "\n",
              "  <div class=\"colab-df-container\">\n",
              "    <button class=\"colab-df-convert\" onclick=\"convertToInteractive('df-735ba7c4-e18a-4c69-bbe4-4dfb32a4c7ff')\"\n",
              "            title=\"Convert this dataframe to an interactive table.\"\n",
              "            style=\"display:none;\">\n",
              "\n",
              "  <svg xmlns=\"http://www.w3.org/2000/svg\" height=\"24px\" viewBox=\"0 -960 960 960\">\n",
              "    <path d=\"M120-120v-720h720v720H120Zm60-500h600v-160H180v160Zm220 220h160v-160H400v160Zm0 220h160v-160H400v160ZM180-400h160v-160H180v160Zm440 0h160v-160H620v160ZM180-180h160v-160H180v160Zm440 0h160v-160H620v160Z\"/>\n",
              "  </svg>\n",
              "    </button>\n",
              "\n",
              "  <style>\n",
              "    .colab-df-container {\n",
              "      display:flex;\n",
              "      gap: 12px;\n",
              "    }\n",
              "\n",
              "    .colab-df-convert {\n",
              "      background-color: #E8F0FE;\n",
              "      border: none;\n",
              "      border-radius: 50%;\n",
              "      cursor: pointer;\n",
              "      display: none;\n",
              "      fill: #1967D2;\n",
              "      height: 32px;\n",
              "      padding: 0 0 0 0;\n",
              "      width: 32px;\n",
              "    }\n",
              "\n",
              "    .colab-df-convert:hover {\n",
              "      background-color: #E2EBFA;\n",
              "      box-shadow: 0px 1px 2px rgba(60, 64, 67, 0.3), 0px 1px 3px 1px rgba(60, 64, 67, 0.15);\n",
              "      fill: #174EA6;\n",
              "    }\n",
              "\n",
              "    .colab-df-buttons div {\n",
              "      margin-bottom: 4px;\n",
              "    }\n",
              "\n",
              "    [theme=dark] .colab-df-convert {\n",
              "      background-color: #3B4455;\n",
              "      fill: #D2E3FC;\n",
              "    }\n",
              "\n",
              "    [theme=dark] .colab-df-convert:hover {\n",
              "      background-color: #434B5C;\n",
              "      box-shadow: 0px 1px 3px 1px rgba(0, 0, 0, 0.15);\n",
              "      filter: drop-shadow(0px 1px 2px rgba(0, 0, 0, 0.3));\n",
              "      fill: #FFFFFF;\n",
              "    }\n",
              "  </style>\n",
              "\n",
              "    <script>\n",
              "      const buttonEl =\n",
              "        document.querySelector('#df-735ba7c4-e18a-4c69-bbe4-4dfb32a4c7ff button.colab-df-convert');\n",
              "      buttonEl.style.display =\n",
              "        google.colab.kernel.accessAllowed ? 'block' : 'none';\n",
              "\n",
              "      async function convertToInteractive(key) {\n",
              "        const element = document.querySelector('#df-735ba7c4-e18a-4c69-bbe4-4dfb32a4c7ff');\n",
              "        const dataTable =\n",
              "          await google.colab.kernel.invokeFunction('convertToInteractive',\n",
              "                                                    [key], {});\n",
              "        if (!dataTable) return;\n",
              "\n",
              "        const docLinkHtml = 'Like what you see? Visit the ' +\n",
              "          '<a target=\"_blank\" href=https://colab.research.google.com/notebooks/data_table.ipynb>data table notebook</a>'\n",
              "          + ' to learn more about interactive tables.';\n",
              "        element.innerHTML = '';\n",
              "        dataTable['output_type'] = 'display_data';\n",
              "        await google.colab.output.renderOutput(dataTable, element);\n",
              "        const docLink = document.createElement('div');\n",
              "        docLink.innerHTML = docLinkHtml;\n",
              "        element.appendChild(docLink);\n",
              "      }\n",
              "    </script>\n",
              "  </div>\n",
              "\n",
              "\n",
              "<div id=\"df-5a3ea622-e0dc-4761-ab72-2ff587c0db6c\">\n",
              "  <button class=\"colab-df-quickchart\" onclick=\"quickchart('df-5a3ea622-e0dc-4761-ab72-2ff587c0db6c')\"\n",
              "            title=\"Suggest charts\"\n",
              "            style=\"display:none;\">\n",
              "\n",
              "<svg xmlns=\"http://www.w3.org/2000/svg\" height=\"24px\"viewBox=\"0 0 24 24\"\n",
              "     width=\"24px\">\n",
              "    <g>\n",
              "        <path d=\"M19 3H5c-1.1 0-2 .9-2 2v14c0 1.1.9 2 2 2h14c1.1 0 2-.9 2-2V5c0-1.1-.9-2-2-2zM9 17H7v-7h2v7zm4 0h-2V7h2v10zm4 0h-2v-4h2v4z\"/>\n",
              "    </g>\n",
              "</svg>\n",
              "  </button>\n",
              "\n",
              "<style>\n",
              "  .colab-df-quickchart {\n",
              "      --bg-color: #E8F0FE;\n",
              "      --fill-color: #1967D2;\n",
              "      --hover-bg-color: #E2EBFA;\n",
              "      --hover-fill-color: #174EA6;\n",
              "      --disabled-fill-color: #AAA;\n",
              "      --disabled-bg-color: #DDD;\n",
              "  }\n",
              "\n",
              "  [theme=dark] .colab-df-quickchart {\n",
              "      --bg-color: #3B4455;\n",
              "      --fill-color: #D2E3FC;\n",
              "      --hover-bg-color: #434B5C;\n",
              "      --hover-fill-color: #FFFFFF;\n",
              "      --disabled-bg-color: #3B4455;\n",
              "      --disabled-fill-color: #666;\n",
              "  }\n",
              "\n",
              "  .colab-df-quickchart {\n",
              "    background-color: var(--bg-color);\n",
              "    border: none;\n",
              "    border-radius: 50%;\n",
              "    cursor: pointer;\n",
              "    display: none;\n",
              "    fill: var(--fill-color);\n",
              "    height: 32px;\n",
              "    padding: 0;\n",
              "    width: 32px;\n",
              "  }\n",
              "\n",
              "  .colab-df-quickchart:hover {\n",
              "    background-color: var(--hover-bg-color);\n",
              "    box-shadow: 0 1px 2px rgba(60, 64, 67, 0.3), 0 1px 3px 1px rgba(60, 64, 67, 0.15);\n",
              "    fill: var(--button-hover-fill-color);\n",
              "  }\n",
              "\n",
              "  .colab-df-quickchart-complete:disabled,\n",
              "  .colab-df-quickchart-complete:disabled:hover {\n",
              "    background-color: var(--disabled-bg-color);\n",
              "    fill: var(--disabled-fill-color);\n",
              "    box-shadow: none;\n",
              "  }\n",
              "\n",
              "  .colab-df-spinner {\n",
              "    border: 2px solid var(--fill-color);\n",
              "    border-color: transparent;\n",
              "    border-bottom-color: var(--fill-color);\n",
              "    animation:\n",
              "      spin 1s steps(1) infinite;\n",
              "  }\n",
              "\n",
              "  @keyframes spin {\n",
              "    0% {\n",
              "      border-color: transparent;\n",
              "      border-bottom-color: var(--fill-color);\n",
              "      border-left-color: var(--fill-color);\n",
              "    }\n",
              "    20% {\n",
              "      border-color: transparent;\n",
              "      border-left-color: var(--fill-color);\n",
              "      border-top-color: var(--fill-color);\n",
              "    }\n",
              "    30% {\n",
              "      border-color: transparent;\n",
              "      border-left-color: var(--fill-color);\n",
              "      border-top-color: var(--fill-color);\n",
              "      border-right-color: var(--fill-color);\n",
              "    }\n",
              "    40% {\n",
              "      border-color: transparent;\n",
              "      border-right-color: var(--fill-color);\n",
              "      border-top-color: var(--fill-color);\n",
              "    }\n",
              "    60% {\n",
              "      border-color: transparent;\n",
              "      border-right-color: var(--fill-color);\n",
              "    }\n",
              "    80% {\n",
              "      border-color: transparent;\n",
              "      border-right-color: var(--fill-color);\n",
              "      border-bottom-color: var(--fill-color);\n",
              "    }\n",
              "    90% {\n",
              "      border-color: transparent;\n",
              "      border-bottom-color: var(--fill-color);\n",
              "    }\n",
              "  }\n",
              "</style>\n",
              "\n",
              "  <script>\n",
              "    async function quickchart(key) {\n",
              "      const quickchartButtonEl =\n",
              "        document.querySelector('#' + key + ' button');\n",
              "      quickchartButtonEl.disabled = true;  // To prevent multiple clicks.\n",
              "      quickchartButtonEl.classList.add('colab-df-spinner');\n",
              "      try {\n",
              "        const charts = await google.colab.kernel.invokeFunction(\n",
              "            'suggestCharts', [key], {});\n",
              "      } catch (error) {\n",
              "        console.error('Error during call to suggestCharts:', error);\n",
              "      }\n",
              "      quickchartButtonEl.classList.remove('colab-df-spinner');\n",
              "      quickchartButtonEl.classList.add('colab-df-quickchart-complete');\n",
              "    }\n",
              "    (() => {\n",
              "      let quickchartButtonEl =\n",
              "        document.querySelector('#df-5a3ea622-e0dc-4761-ab72-2ff587c0db6c button');\n",
              "      quickchartButtonEl.style.display =\n",
              "        google.colab.kernel.accessAllowed ? 'block' : 'none';\n",
              "    })();\n",
              "  </script>\n",
              "</div>\n",
              "\n",
              "  <div id=\"id_0c9c70a9-d763-41ab-9083-e85621f2fe8f\">\n",
              "    <style>\n",
              "      .colab-df-generate {\n",
              "        background-color: #E8F0FE;\n",
              "        border: none;\n",
              "        border-radius: 50%;\n",
              "        cursor: pointer;\n",
              "        display: none;\n",
              "        fill: #1967D2;\n",
              "        height: 32px;\n",
              "        padding: 0 0 0 0;\n",
              "        width: 32px;\n",
              "      }\n",
              "\n",
              "      .colab-df-generate:hover {\n",
              "        background-color: #E2EBFA;\n",
              "        box-shadow: 0px 1px 2px rgba(60, 64, 67, 0.3), 0px 1px 3px 1px rgba(60, 64, 67, 0.15);\n",
              "        fill: #174EA6;\n",
              "      }\n",
              "\n",
              "      [theme=dark] .colab-df-generate {\n",
              "        background-color: #3B4455;\n",
              "        fill: #D2E3FC;\n",
              "      }\n",
              "\n",
              "      [theme=dark] .colab-df-generate:hover {\n",
              "        background-color: #434B5C;\n",
              "        box-shadow: 0px 1px 3px 1px rgba(0, 0, 0, 0.15);\n",
              "        filter: drop-shadow(0px 1px 2px rgba(0, 0, 0, 0.3));\n",
              "        fill: #FFFFFF;\n",
              "      }\n",
              "    </style>\n",
              "    <button class=\"colab-df-generate\" onclick=\"generateWithVariable('df')\"\n",
              "            title=\"Generate code using this dataframe.\"\n",
              "            style=\"display:none;\">\n",
              "\n",
              "  <svg xmlns=\"http://www.w3.org/2000/svg\" height=\"24px\"viewBox=\"0 0 24 24\"\n",
              "       width=\"24px\">\n",
              "    <path d=\"M7,19H8.4L18.45,9,17,7.55,7,17.6ZM5,21V16.75L18.45,3.32a2,2,0,0,1,2.83,0l1.4,1.43a1.91,1.91,0,0,1,.58,1.4,1.91,1.91,0,0,1-.58,1.4L9.25,21ZM18.45,9,17,7.55Zm-12,3A5.31,5.31,0,0,0,4.9,8.1,5.31,5.31,0,0,0,1,6.5,5.31,5.31,0,0,0,4.9,4.9,5.31,5.31,0,0,0,6.5,1,5.31,5.31,0,0,0,8.1,4.9,5.31,5.31,0,0,0,12,6.5,5.46,5.46,0,0,0,6.5,12Z\"/>\n",
              "  </svg>\n",
              "    </button>\n",
              "    <script>\n",
              "      (() => {\n",
              "      const buttonEl =\n",
              "        document.querySelector('#id_0c9c70a9-d763-41ab-9083-e85621f2fe8f button.colab-df-generate');\n",
              "      buttonEl.style.display =\n",
              "        google.colab.kernel.accessAllowed ? 'block' : 'none';\n",
              "\n",
              "      buttonEl.onclick = () => {\n",
              "        google.colab.notebook.generateWithVariable('df');\n",
              "      }\n",
              "      })();\n",
              "    </script>\n",
              "  </div>\n",
              "\n",
              "    </div>\n",
              "  </div>\n"
            ],
            "text/plain": [
              "                                                   text             emoji\n",
              "0     \"Dressing for success in big business leads to...                👔📈\n",
              "1            The big business is making a lot of money!               🏢🤑🤑\n",
              "2     A businessman collaborates with a tech expert ...              👨‍💻🤝\n",
              "3     The office building is bustling with teamwork ...  🏢🧑‍🤝‍🧑🧑‍🤝‍🧑🧑‍🤝‍🧑\n",
              "4     The savvy businesswoman is making a fortune in...              👩‍💻🤑\n",
              "...                                                 ...               ...\n",
              "1650   \"Listen closely to the wise words being shared.\"               🔊🗣️\n",
              "1651  \"Here’s some sound advice that you can really ...              👍🏻🎙🗣\n",
              "1652  A boy is giving thoughtful advice to a girl, a...            👦🗣️👩🤔👍\n",
              "1653           \"That's great advice, and I'm all ears!\"             👍🧏‍♀️\n",
              "1654  \"Listening carefully and sharing wise words ca...                👂💬\n",
              "\n",
              "[1655 rows x 2 columns]"
            ]
          },
          "execution_count": 110,
          "metadata": {},
          "output_type": "execute_result"
        }
      ],
      "source": [
        "datapath = \"/content/drive/MyDrive/CLIP/ELCo_adapted_edited.csv\"\n",
        "df = pd.read_csv(datapath)\n",
        "df"
      ]
    },
    {
      "cell_type": "code",
      "execution_count": null,
      "id": "0758e306-c077-410c-86e4-ab85e8960d1a",
      "metadata": {
        "colab": {
          "base_uri": "https://localhost:8080/"
        },
        "id": "0758e306-c077-410c-86e4-ab85e8960d1a",
        "outputId": "b3bd6fa7-9f89-42f1-b504-ccfc45d18f7b"
      },
      "outputs": [
        {
          "name": "stdout",
          "output_type": "stream",
          "text": [
            "Input: The big business is making a lot of money! → Predicted Emojis: ['🏢🤑🤑', '🤏💲', '🤏💷']\n",
            "Encoder Cosine Similarity: 0.7457\n"
          ]
        }
      ],
      "source": [
        "\n",
        "df[\"Emoji_Text\"] = df[\"emoji\"].apply(lambda x: emoji.demojize(x, delimiters=(\" \", \" \")))\n",
        "\n",
        "text_data = df[\"text\"].tolist() \n",
        "emoji_text_data = df[\"Emoji_Text\"].tolist() \n",
        "emoji_char_data = df[\"emoji\"].tolist() \n",
        "\n",
        "device = \"cuda\" if torch.cuda.is_available() else \"cpu\"\n",
        "model, preprocess = clip.load(\"ViT-B/32\", device=device)\n",
        "\n",
        "text_features = model.encode_text(\n",
        "    clip.tokenize(text_data, truncate=True).to(device)\n",
        ").detach().cpu().numpy()\n",
        "\n",
        "\n",
        "def retrieve_top_k_emoji_combinations(query_text, k=3, threshold=0.2):\n",
        "    query_embedding = model.encode_text(clip.tokenize([query_text], truncate=True).to(device)).detach().cpu().numpy()\n",
        "    similarities = cosine_similarity(query_embedding, text_features)[0]\n",
        "\n",
        "    top_k_indices = np.argsort(-similarities)[:k * 2]\n",
        "\n",
        "    top_k_combos = []\n",
        "    for i in top_k_indices:\n",
        "        if similarities[i] < threshold:\n",
        "            continue\n",
        "        emoji_combo = emoji_char_data[i] \n",
        "        if emoji_combo not in top_k_combos:\n",
        "            top_k_combos.append(emoji_combo)\n",
        "        if len(top_k_combos) >= k:\n",
        "            break\n",
        "\n",
        "    return top_k_combos  \n",
        "\n",
        "\n",
        "# Example \n",
        "query = \"The big business is making a lot of money!\"\n",
        "predicted_emojis = retrieve_top_k_emoji_combinations(query, k=3)\n",
        "print(f\"Input: {query} → Predicted Emojis: {predicted_emojis}\")\n",
        "\n",
        "#  evaluate encoder using cosine similarity\n",
        "def evaluate_encoder():\n",
        "    similarities = []\n",
        "\n",
        "    for text, emoji_gt in zip(df[\"text\"], df[\"Emoji_Text\"]):\n",
        "        predicted_emoji_text = \" \".join(retrieve_top_k_emojis(text, k=1))\n",
        "\n",
        "        if predicted_emoji_text and emoji_gt:\n",
        "            predicted_embedding = model.encode_text(clip.tokenize([predicted_emoji_text]).to(device)).detach().cpu().numpy()\n",
        "            ground_truth_embedding = model.encode_text(clip.tokenize([emoji_gt]).to(device)).detach().cpu().numpy()\n",
        "\n",
        "            sim_score = cosine_similarity(predicted_embedding, ground_truth_embedding)[0][0]\n",
        "            similarities.append(sim_score)\n",
        "\n",
        "    if similarities:\n",
        "        avg_similarity = np.mean(similarities)\n",
        "        print(f\"Encoder Cosine Similarity: {avg_similarity:.4f}\")\n",
        "    else:\n",
        "        print(\"No valid similarity scores computed!\")\n",
        "\n",
        "\n",
        "evaluate_encoder()\n",
        "\n"
      ]
    },
    {
      "cell_type": "code",
      "execution_count": 76,
      "id": "ukjlmG-V9GJ7",
      "metadata": {
        "colab": {
          "base_uri": "https://localhost:8080/"
        },
        "id": "ukjlmG-V9GJ7",
        "outputId": "c1bc4ed3-1ffc-46a5-b92b-c8eaa2cb0030"
      },
      "outputs": [
        {
          "name": "stderr",
          "output_type": "stream",
          "text": [
            "[nltk_data] Downloading package wordnet to /root/nltk_data...\n",
            "[nltk_data] Downloading package omw-1.4 to /root/nltk_data...\n"
          ]
        },
        {
          "data": {
            "text/plain": [
              "True"
            ]
          },
          "execution_count": 76,
          "metadata": {},
          "output_type": "execute_result"
        }
      ],
      "source": [
        "import nltk\n",
        "nltk.download('wordnet')\n",
        "nltk.download('omw-1.4')"
      ]
    },
    {
      "cell_type": "code",
      "execution_count": null,
      "id": "RdPGI98LEErh",
      "metadata": {
        "colab": {
          "base_uri": "https://localhost:8080/"
        },
        "id": "RdPGI98LEErh",
        "outputId": "d784a030-3c99-4a0f-fe29-85fe3410d89b"
      },
      "outputs": [
        {
          "name": "stdout",
          "output_type": "stream",
          "text": [
            "\n",
            " Decoder Evaluation Results:\n",
            "BLEU Score: 0.4572\n",
            "METEOR Score: 0.9157\n",
            "ROUGE-L Score: 0.9934\n"
          ]
        }
      ],
      "source": [
        "def evaluate_decoder():\n",
        "    bleu_scores, meteor_scores, rouge_scores = [], [], []\n",
        "    smoothing = SmoothingFunction().method1\n",
        "    rouge = rouge_scorer.RougeScorer([\"rougeL\"], use_stemmer=False)\n",
        "\n",
        "    for text, emoji_gt in zip(df[\"text\"], df[\"emoji\"]):\n",
        "        predicted_emoji = retrieve_top_k_emoji_combinations(text, k=1)[0]  \n",
        "\n",
        "        if predicted_emoji and emoji_gt:\n",
        "            predicted_tokens = list(grapheme.graphemes(predicted_emoji))\n",
        "            reference_tokens = list(grapheme.graphemes(emoji_gt))\n",
        "\n",
        "            # BLEU\n",
        "            bleu = sentence_bleu([reference_tokens], predicted_tokens, smoothing_function=smoothing)\n",
        "            bleu_scores.append(bleu)\n",
        "\n",
        "            # METEOR\n",
        "            meteor = meteor_score([reference_tokens], predicted_tokens)\n",
        "            meteor_scores.append(meteor)\n",
        "\n",
        "            # ROUGE-L using demojized emoji text\n",
        "            predicted_text = emoji.demojize(predicted_emoji, delimiters=(\" \", \" \"))\n",
        "            ground_truth_text = emoji.demojize(emoji_gt, delimiters=(\" \", \" \"))\n",
        "            rouge_l = rouge.score(ground_truth_text, predicted_text)['rougeL'].fmeasure\n",
        "            rouge_scores.append(rouge_l)\n",
        "\n",
        "    print(f\"\\n Decoder Evaluation Results:\")\n",
        "    print(f\"BLEU Score: {np.mean(bleu_scores):.4f}\")\n",
        "    print(f\"METEOR Score: {np.mean(meteor_scores):.4f}\")\n",
        "    print(f\"ROUGE-L Score: {np.mean(rouge_scores):.4f}\")\n",
        "    \n",
        "evaluate_decoder()"
      ]
    },
    {
      "cell_type": "code",
      "execution_count": null,
      "id": "LVMlEOqgFFSV",
      "metadata": {
        "colab": {
          "base_uri": "https://localhost:8080/"
        },
        "id": "LVMlEOqgFFSV",
        "outputId": "3bdfb408-e286-4dab-b9b1-fb58b160473f"
      },
      "outputs": [
        {
          "name": "stdout",
          "output_type": "stream",
          "text": [
            "Hamming Loss: 0.0093\n"
          ]
        }
      ],
      "source": [
        "def evaluate_hamming_loss():\n",
        "    losses = []\n",
        "\n",
        "    for text, gt in zip(df[\"text\"], df[\"emoji\"]):\n",
        "        predicted = retrieve_top_k_emoji_combinations(text, k=1)[0] \n",
        "        pred_set = set(grapheme.graphemes(predicted))\n",
        "        gt_set = set(grapheme.graphemes(gt))\n",
        "\n",
        "        union_len = len(pred_set.union(gt_set))\n",
        "        xor_len = len(pred_set.symmetric_difference(gt_set))\n",
        "\n",
        "        if union_len > 0:\n",
        "            losses.append(xor_len / union_len)\n",
        "        else:\n",
        "            losses.append(0)  \n",
        "\n",
        "    hamming = np.mean(losses)\n",
        "    print(f\"Hamming Loss: {hamming:.4f}\")\n",
        "\n",
        "evaluate_hamming_loss()"
      ]
    }
  ],
  "metadata": {
    "accelerator": "GPU",
    "colab": {
      "gpuType": "A100",
      "machine_shape": "hm",
      "provenance": []
    },
    "kernelspec": {
      "display_name": "Python 3",
      "name": "python3"
    },
    "language_info": {
      "codemirror_mode": {
        "name": "ipython",
        "version": 3
      },
      "file_extension": ".py",
      "mimetype": "text/x-python",
      "name": "python",
      "nbconvert_exporter": "python",
      "pygments_lexer": "ipython3",
      "version": "3.12.7"
    }
  },
  "nbformat": 4,
  "nbformat_minor": 5
}
