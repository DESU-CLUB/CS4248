{
  "cells": [
    {
      "cell_type": "code",
      "execution_count": null,
      "metadata": {
        "colab": {
          "base_uri": "https://localhost:8080/"
        },
        "collapsed": true,
        "id": "BLIAx_rdW93e",
        "outputId": "1e78ad62-6d4b-4b82-a4ef-6bcb9ea5f04d"
      },
      "outputs": [],
      "source": [
        "pip install evaluate"
      ]
    },
    {
      "cell_type": "code",
      "execution_count": null,
      "metadata": {
        "colab": {
          "base_uri": "https://localhost:8080/"
        },
        "collapsed": true,
        "id": "Jtud2MpIXQu6",
        "outputId": "0bd6bc31-1b45-4b15-cca6-89298c402b91"
      },
      "outputs": [],
      "source": [
        "pip install rouge-score"
      ]
    },
    {
      "cell_type": "code",
      "execution_count": 34,
      "metadata": {
        "id": "dsd2aSped1wu"
      },
      "outputs": [],
      "source": [
        "from encoder import Encoder\n",
        "from decoder import CustomDecoder"
      ]
    },
    {
      "cell_type": "code",
      "execution_count": 7,
      "metadata": {
        "id": "WZAkliDiipNd"
      },
      "outputs": [],
      "source": [
        "!pip install -q datasets"
      ]
    },
    {
      "cell_type": "code",
      "execution_count": 8,
      "metadata": {
        "colab": {
          "base_uri": "https://localhost:8080/",
          "height": 222,
          "referenced_widgets": [
            "a66c3388ff8e4dde850002b605a6fae7",
            "85bb96b8a851422a8cae1e8240cdd5c8",
            "b7ddf4fe0901458bb9257a9d819d9329",
            "909a3cba91904abebd8034179990807f",
            "0f9f797020194a85a6e6d1ed162c6450",
            "62e119c994c44e109de1f5b913723c04",
            "c7b6d193102b4337a59db5a8fc5a7943",
            "3a3f3acb62804c428917d96d27e666cc",
            "f4ea4b7e6c51433a94caa7411f02f065",
            "3a54fc762a824a7ead29c766c483c221",
            "4c10951988e641c9b471f1329dcb81dc",
            "37efa5d05ad747c4bdd8d0853a1d5777",
            "dd02ff74f29d45e7905906611973a328",
            "aff0347b57704af8b55cd800a37bf59a",
            "73965604175049a6a1b74217535b7530",
            "f58155af107349899ff339e1b97a9239",
            "c8e39441bd944652b2c3e446f12243d8",
            "e1e5a19988e04fc4a7bc06da41ed37c1",
            "e9798928ef5545e9a5b6fdedb045457d",
            "c70769fefa6c4aeea6e09516491ecc87",
            "23376e5e9e4549c88842db32dc5d5079",
            "ff2fad7433464688b8cdd57bfd9a8232",
            "1aa0b22f7d5445a88cec2a3cb826eba4",
            "ecaa95d05faf492594bdc483b0fec5c1",
            "eb0eaa022dcd45ffabdcf2925bc9fd2c",
            "22a8db10e8544de0958734a74fc90e87",
            "cf6b4a7146ed46049d4353f9d47af52c",
            "d7b7cb23948a47aa9eabb8fd2dbb05b4",
            "fb795ec8a178475da3a43a93281432d0",
            "84fa40cb2b6e4bce9d0b0861484e6d41",
            "e850d577e29b4e0f91c7d47e8a251ad9",
            "bf5cf11bf03045189334ffb32281ca48",
            "3a6ae9b76d5b4111aa443d4047aec04a"
          ]
        },
        "id": "YILZ7eWTiv6V",
        "outputId": "9f63c005-2f1d-40d2-8100-697152c93fa6"
      },
      "outputs": [
        {
          "name": "stderr",
          "output_type": "stream",
          "text": [
            "/usr/local/lib/python3.11/dist-packages/huggingface_hub/utils/_auth.py:104: UserWarning: \n",
            "Error while fetching `HF_TOKEN` secret value from your vault: 'Requesting secret HF_TOKEN timed out. Secrets can only be fetched when running from the Colab UI.'.\n",
            "You are not authenticated with the Hugging Face Hub in this notebook.\n",
            "If the error persists, please let us know by opening an issue on GitHub (https://github.com/huggingface/huggingface_hub/issues/new).\n",
            "  warnings.warn(\n"
          ]
        },
        {
          "data": {
            "application/vnd.jupyter.widget-view+json": {
              "model_id": "a66c3388ff8e4dde850002b605a6fae7",
              "version_major": 2,
              "version_minor": 0
            },
            "text/plain": [
              "README.md:   0%|          | 0.00/313 [00:00<?, ?B/s]"
            ]
          },
          "metadata": {},
          "output_type": "display_data"
        },
        {
          "data": {
            "application/vnd.jupyter.widget-view+json": {
              "model_id": "37efa5d05ad747c4bdd8d0853a1d5777",
              "version_major": 2,
              "version_minor": 0
            },
            "text/plain": [
              "train-00000-of-00001.parquet:   0%|          | 0.00/43.2M [00:00<?, ?B/s]"
            ]
          },
          "metadata": {},
          "output_type": "display_data"
        },
        {
          "data": {
            "application/vnd.jupyter.widget-view+json": {
              "model_id": "1aa0b22f7d5445a88cec2a3cb826eba4",
              "version_major": 2,
              "version_minor": 0
            },
            "text/plain": [
              "Generating train split:   0%|          | 0/505342 [00:00<?, ? examples/s]"
            ]
          },
          "metadata": {},
          "output_type": "display_data"
        }
      ],
      "source": [
        "from datasets import load_dataset\n",
        "\n",
        "# Login using e.g. `huggingface-cli login` to access this dataset\n",
        "ds = load_dataset(\"DESUCLUB/combined_emoji_data\")\n",
        "df = ds[\"train\"].to_pandas()"
      ]
    },
    {
      "cell_type": "markdown",
      "metadata": {
        "id": "ZEdVZCfriQ4B"
      },
      "source": [
        "Without GPT2"
      ]
    },
    {
      "cell_type": "code",
      "execution_count": 81,
      "metadata": {
        "id": "SMfpDcpKTm6E"
      },
      "outputs": [],
      "source": [
        "import sys\n",
        "sys.path.append(\"/content\")"
      ]
    },
    {
      "cell_type": "code",
      "execution_count": 82,
      "metadata": {
        "id": "W1VntagOTb71"
      },
      "outputs": [],
      "source": [
        "import importlib.util\n",
        "spec = importlib.util.spec_from_file_location(\"decoder\", \"/content/decoder.py\")  # change path if needed\n",
        "decoder_module = importlib.util.module_from_spec(spec)\n",
        "spec.loader.exec_module(decoder_module)\n",
        "\n",
        "CustomDecoder = decoder_module.CustomDecoder"
      ]
    },
    {
      "cell_type": "code",
      "execution_count": 86,
      "metadata": {
        "colab": {
          "base_uri": "https://localhost:8080/"
        },
        "id": "jbLuEI29O-n0",
        "outputId": "cd6a2168-4622-4b47-8421-3644d67873a4"
      },
      "outputs": [
        {
          "name": "stdout",
          "output_type": "stream",
          "text": [
            "Generated: Elephant The a My The S beats I Sp Nothing Being When Feeling My Nothing I I Ex Who The Watch Watch I Get I I's My The Feeling I My Watch Just Being The I I'I The The As beatsploring In The In The\n"
          ]
        }
      ],
      "source": [
        "from transformers import BertTokenizer\n",
        "import torch\n",
        "\n",
        "# Device setup\n",
        "device = torch.device(\"cuda\" if torch.cuda.is_available() else \"cpu\")\n",
        "\n",
        "# Load tokenizer\n",
        "tokenizer = BertTokenizer.from_pretrained(\"bert-base-multilingual-cased\")\n",
        "vocab_size = tokenizer.vocab_size\n",
        "\n",
        "# Import model definitions\n",
        "from encoder import Encoder\n",
        "from decoder import CustomDecoder\n",
        "\n",
        "# Instantiate encoder and decoder (make sure layer config matches trained weights)\n",
        "encoder = Encoder(voc_size=vocab_size, embed_size=128, device=device).to(device)\n",
        "decoder = CustomDecoder(\n",
        "    vocab_size=vocab_size,\n",
        "    encoder_dim=2048,\n",
        "    d_model=512,            # match your training setup\n",
        "    num_decoder_layers=4    # adjust this if needed\n",
        ").to(device)\n",
        "\n",
        "# Load trained weights\n",
        "encoder.load_state_dict(torch.load(\"trained_encoder_model.pt\", map_location=device))\n",
        "decoder.load_state_dict(torch.load(\"trained_decoder_model.pt\", map_location=device))\n",
        "\n",
        "# Set models to evaluation mode\n",
        "encoder.eval()\n",
        "decoder.eval()\n",
        "\n",
        "# ==== Inference Example ====\n",
        "text = \"The company is making profit!\"\n",
        "tokens = tokenizer(text, return_tensors=\"pt\", padding=True, truncation=True).to(device)\n",
        "\n",
        "with torch.no_grad():\n",
        "    encoder_output = encoder(tokens[\"input_ids\"])      # (B, 2048)\n",
        "    memory = decoder.adapter(encoder_output)           # (B, 512)\n",
        "    if memory.dim() == 2:\n",
        "        memory = memory.unsqueeze(1)                   # (B, 1, 512)\n",
        "\n",
        "    generated_ids = decoder.generate(memory)\n",
        "    generated_text = tokenizer.decode(generated_ids[0], skip_special_tokens=True)\n",
        "\n",
        "print(\"Generated:\", generated_text)\n"
      ]
    },
    {
      "cell_type": "code",
      "execution_count": 109,
      "metadata": {
        "id": "T_Cnx6xjbt6J"
      },
      "outputs": [],
      "source": [
        "def evaluate_full_pipeline(df, encoder, decoder, tokenizer, device):\n",
        "    encoder.eval()\n",
        "    decoder.eval()\n",
        "\n",
        "    predictions = []\n",
        "    references = []\n",
        "\n",
        "\n",
        "    for _, row in tqdm(df.iterrows(), total=len(df)):\n",
        "        input_text = row[\"text\"]\n",
        "\n",
        "        # Tokenize input text\n",
        "        tokenized = tokenizer(input_text, return_tensors=\"pt\", truncation=True, padding=True).to(device)\n",
        "\n",
        "        # ---- Step 1: Encode ----\n",
        "        with torch.no_grad():\n",
        "            encoder_output = encoder(tokenized[\"input_ids\"])      # (B, 2048)\n",
        "            memory = decoder.adapter(encoder_output)              # (B, 512)\n",
        "            if memory.dim() == 2:\n",
        "                memory = memory.unsqueeze(1)                      # (B, 1, 512)\n",
        "\n",
        "        # ---- Step 2: Decode ----\n",
        "        with torch.no_grad():\n",
        "            generated_ids = decoder.generate(memory)              # (B, seq_len)\n",
        "            generated_text = tokenizer.decode(generated_ids[0], skip_special_tokens=True)\n",
        "\n",
        "        # print(f\"\\n📝 Input: {input_text}\\n🔁 Output: {generated_text.strip()}\")\n",
        "\n",
        "        predictions.append(generated_text.strip())\n",
        "        references.append(input_text.strip())\n",
        "\n",
        "    # ---- Step 3: HF metrics ----\n",
        "    import evaluate\n",
        "    bleu = evaluate.load(\"bleu\")\n",
        "    meteor = evaluate.load(\"meteor\")\n",
        "    rouge = evaluate.load(\"rouge\")\n",
        "    exact = evaluate.load(\"exact_match\")\n",
        "\n",
        "    results = {\n",
        "        \"BLEU\": bleu.compute(predictions=predictions, references=[[r] for r in references])[\"bleu\"],\n",
        "        \"METEOR\": meteor.compute(predictions=predictions, references=references)[\"meteor\"],\n",
        "        \"ROUGE-L\": rouge.compute(predictions=predictions, references=references)[\"rougeL\"],\n",
        "        \"Exact Match\": exact.compute(predictions=predictions, references=references)[\"exact_match\"],\n",
        "    }\n",
        "\n",
        "    print(\"\\n📊 Full Pipeline Evaluation:\")\n",
        "    for metric, score in results.items():\n",
        "        print(f\"{metric}: {score:.4f}\")\n",
        "\n",
        "    return results\n"
      ]
    },
    {
      "cell_type": "code",
      "execution_count": 111,
      "metadata": {
        "colab": {
          "base_uri": "https://localhost:8080/"
        },
        "id": "TwpJRbuOi7ef",
        "outputId": "7d1d2e1b-3fb1-4d4e-b73c-92157aa8af20"
      },
      "outputs": [
        {
          "name": "stderr",
          "output_type": "stream",
          "text": [
            "100%|██████████| 10000/10000 [42:00<00:00,  3.97it/s]\n",
            "[nltk_data] Downloading package wordnet to /root/nltk_data...\n",
            "[nltk_data]   Package wordnet is already up-to-date!\n",
            "[nltk_data] Downloading package punkt_tab to /root/nltk_data...\n",
            "[nltk_data]   Package punkt_tab is already up-to-date!\n",
            "[nltk_data] Downloading package omw-1.4 to /root/nltk_data...\n",
            "[nltk_data]   Package omw-1.4 is already up-to-date!\n"
          ]
        },
        {
          "name": "stdout",
          "output_type": "stream",
          "text": [
            "\n",
            "📊 Full Pipeline Evaluation:\n",
            "BLEU: 0.0000\n",
            "METEOR: 0.0635\n",
            "ROUGE-L: 0.0609\n",
            "Exact Match: 0.0000\n"
          ]
        },
        {
          "data": {
            "text/plain": [
              "{'BLEU': 0.0,\n",
              " 'METEOR': np.float64(0.06347445898617397),\n",
              " 'ROUGE-L': np.float64(0.060928473997052604),\n",
              " 'Exact Match': np.float64(0.0)}"
            ]
          },
          "execution_count": 111,
          "metadata": {},
          "output_type": "execute_result"
        }
      ],
      "source": [
        "# Filter out rows with missing or null \"text\" values\n",
        "df_clean = df[df[\"text\"].notnull()]\n",
        "\n",
        "# Then sample\n",
        "df_sample = df_clean.sample(n=10000, random_state=42)\n",
        "\n",
        "# Run evaluation\n",
        "evaluate_full_pipeline(\n",
        "    df=df_sample,\n",
        "    encoder=encoder,\n",
        "    decoder=decoder,\n",
        "    tokenizer=tokenizer,\n",
        "    device=device\n",
        ")\n"
      ]
    },
    {
      "cell_type": "markdown",
      "metadata": {
        "id": "MTU1tydbiFg7"
      },
      "source": [
        "with GPT-2"
      ]
    },
    {
      "cell_type": "code",
      "execution_count": 121,
      "metadata": {
        "id": "pt7gphb7s1Gf"
      },
      "outputs": [],
      "source": [
        "from llm import GPT2Adapter"
      ]
    },
    {
      "cell_type": "code",
      "execution_count": 133,
      "metadata": {
        "id": "qKXu8CWcxigP"
      },
      "outputs": [],
      "source": [
        "def evaluate_full_pipeline(df, encoder, decoder, tokenizer, device, gpt2_adapter=None):\n",
        "    encoder.eval()\n",
        "    decoder.eval()\n",
        "    if gpt2_adapter is not None:\n",
        "        gpt2_adapter.eval()\n",
        "        # ✅ Add this projection to match decoder expectations\n",
        "        projection_to_encoder_dim = nn.Linear(768, 2048).to(device)\n",
        "\n",
        "    predictions = []\n",
        "    references = []\n",
        "\n",
        "    from tqdm import tqdm\n",
        "    for _, row in tqdm(df.iterrows(), total=len(df)):\n",
        "        input_text = row[\"text\"]\n",
        "\n",
        "        # Tokenize input text\n",
        "        tokenized = tokenizer(input_text, return_tensors=\"pt\", truncation=True, padding=True).to(device)\n",
        "\n",
        "        # ---- Step 1: Encode ----\n",
        "        with torch.no_grad():\n",
        "            encoder_output = encoder(tokenized[\"input_ids\"])  # (B, 2048)\n",
        "\n",
        "            if gpt2_adapter is not None:\n",
        "                x = gpt2_adapter(encoder_output)               # (B, 768)\n",
        "                x = projection_to_encoder_dim(x)               # ✅ (B, 2048)\n",
        "                encoder_output = decoder.adapter(x)            # (B, 512)\n",
        "            else:\n",
        "                encoder_output = decoder.adapter(encoder_output)\n",
        "\n",
        "            if encoder_output.dim() == 2:\n",
        "                encoder_output = encoder_output.unsqueeze(1)   # (B, 1, 512)\n",
        "\n",
        "        # ---- Step 2: Decode ----\n",
        "        with torch.no_grad():\n",
        "            generated_ids = decoder.generate(encoder_output)\n",
        "            generated_text = tokenizer.decode(generated_ids[0], skip_special_tokens=True)\n",
        "\n",
        "        # print(f\"\\n📝 Input: {input_text}\\n🔁 Output: {generated_text.strip()}\")\n",
        "        predictions.append(generated_text.strip())\n",
        "        references.append(input_text.strip())\n",
        "\n",
        "    # ---- Step 3: HF metrics ----\n",
        "    import evaluate\n",
        "    bleu = evaluate.load(\"bleu\")\n",
        "    meteor = evaluate.load(\"meteor\")\n",
        "    rouge = evaluate.load(\"rouge\")\n",
        "    exact = evaluate.load(\"exact_match\")\n",
        "\n",
        "    results = {\n",
        "        \"BLEU\": bleu.compute(predictions=predictions, references=[[r] for r in references])[\"bleu\"],\n",
        "        \"METEOR\": meteor.compute(predictions=predictions, references=references)[\"meteor\"],\n",
        "        \"ROUGE-L\": rouge.compute(predictions=predictions, references=references)[\"rougeL\"],\n",
        "        \"Exact Match\": exact.compute(predictions=predictions, references=references)[\"exact_match\"],\n",
        "    }\n",
        "\n",
        "    print(\"\\n📊 Full Pipeline Evaluation:\")\n",
        "    for metric, score in results.items():\n",
        "        print(f\"{metric}: {score:.4f}\")\n",
        "\n",
        "    return results\n"
      ]
    },
    {
      "cell_type": "code",
      "execution_count": 134,
      "metadata": {
        "id": "YrKy_tq8xtuY"
      },
      "outputs": [],
      "source": [
        "import torch.nn as nn"
      ]
    },
    {
      "cell_type": "code",
      "execution_count": 135,
      "metadata": {
        "colab": {
          "base_uri": "https://localhost:8080/"
        },
        "id": "h_s0vqLExlRE",
        "outputId": "7a849cdd-3ace-4355-f542-27801f4347c9"
      },
      "outputs": [
        {
          "name": "stderr",
          "output_type": "stream",
          "text": [
            "100%|██████████| 10000/10000 [41:39<00:00,  4.00it/s]\n",
            "[nltk_data] Downloading package wordnet to /root/nltk_data...\n",
            "[nltk_data]   Package wordnet is already up-to-date!\n",
            "[nltk_data] Downloading package punkt_tab to /root/nltk_data...\n",
            "[nltk_data]   Package punkt_tab is already up-to-date!\n",
            "[nltk_data] Downloading package omw-1.4 to /root/nltk_data...\n",
            "[nltk_data]   Package omw-1.4 is already up-to-date!\n"
          ]
        },
        {
          "name": "stdout",
          "output_type": "stream",
          "text": [
            "\n",
            "📊 Full Pipeline Evaluation:\n",
            "BLEU: 0.0000\n",
            "METEOR: 0.0850\n",
            "ROUGE-L: 0.0886\n",
            "Exact Match: 0.0000\n"
          ]
        }
      ],
      "source": [
        "results_with_gpt = evaluate_full_pipeline(\n",
        "    df=df.sample(n=10000),\n",
        "    encoder=encoder,\n",
        "    decoder=decoder,\n",
        "    tokenizer=tokenizer,\n",
        "    device=device,\n",
        "    gpt2_adapter=gpt2_adapter\n",
        ")"
      ]
    },
    {
      "cell_type": "code",
      "execution_count": null,
      "metadata": {
        "id": "_-BNLWdvst8h"
      },
      "outputs": [],
      "source": []
    }
  ],
  "metadata": {
    "accelerator": "GPU",
    "colab": {
      "gpuType": "A100",
      "machine_shape": "hm",
      "provenance": []
    },
    "kernelspec": {
      "display_name": "Python 3",
      "name": "python3"
    },
    "language_info": {
      "name": "python"
    },
    "widgets": {
      "application/vnd.jupyter.widget-state+json": {
        "0f9f797020194a85a6e6d1ed162c6450": {
          "model_module": "@jupyter-widgets/base",
          "model_module_version": "1.2.0",
          "model_name": "LayoutModel",
          "state": {
            "_model_module": "@jupyter-widgets/base",
            "_model_module_version": "1.2.0",
            "_model_name": "LayoutModel",
            "_view_count": null,
            "_view_module": "@jupyter-widgets/base",
            "_view_module_version": "1.2.0",
            "_view_name": "LayoutView",
            "align_content": null,
            "align_items": null,
            "align_self": null,
            "border": null,
            "bottom": null,
            "display": null,
            "flex": null,
            "flex_flow": null,
            "grid_area": null,
            "grid_auto_columns": null,
            "grid_auto_flow": null,
            "grid_auto_rows": null,
            "grid_column": null,
            "grid_gap": null,
            "grid_row": null,
            "grid_template_areas": null,
            "grid_template_columns": null,
            "grid_template_rows": null,
            "height": null,
            "justify_content": null,
            "justify_items": null,
            "left": null,
            "margin": null,
            "max_height": null,
            "max_width": null,
            "min_height": null,
            "min_width": null,
            "object_fit": null,
            "object_position": null,
            "order": null,
            "overflow": null,
            "overflow_x": null,
            "overflow_y": null,
            "padding": null,
            "right": null,
            "top": null,
            "visibility": null,
            "width": null
          }
        },
        "1aa0b22f7d5445a88cec2a3cb826eba4": {
          "model_module": "@jupyter-widgets/controls",
          "model_module_version": "1.5.0",
          "model_name": "HBoxModel",
          "state": {
            "_dom_classes": [],
            "_model_module": "@jupyter-widgets/controls",
            "_model_module_version": "1.5.0",
            "_model_name": "HBoxModel",
            "_view_count": null,
            "_view_module": "@jupyter-widgets/controls",
            "_view_module_version": "1.5.0",
            "_view_name": "HBoxView",
            "box_style": "",
            "children": [
              "IPY_MODEL_ecaa95d05faf492594bdc483b0fec5c1",
              "IPY_MODEL_eb0eaa022dcd45ffabdcf2925bc9fd2c",
              "IPY_MODEL_22a8db10e8544de0958734a74fc90e87"
            ],
            "layout": "IPY_MODEL_cf6b4a7146ed46049d4353f9d47af52c"
          }
        },
        "22a8db10e8544de0958734a74fc90e87": {
          "model_module": "@jupyter-widgets/controls",
          "model_module_version": "1.5.0",
          "model_name": "HTMLModel",
          "state": {
            "_dom_classes": [],
            "_model_module": "@jupyter-widgets/controls",
            "_model_module_version": "1.5.0",
            "_model_name": "HTMLModel",
            "_view_count": null,
            "_view_module": "@jupyter-widgets/controls",
            "_view_module_version": "1.5.0",
            "_view_name": "HTMLView",
            "description": "",
            "description_tooltip": null,
            "layout": "IPY_MODEL_bf5cf11bf03045189334ffb32281ca48",
            "placeholder": "​",
            "style": "IPY_MODEL_3a6ae9b76d5b4111aa443d4047aec04a",
            "value": " 505342/505342 [00:00&lt;00:00, 1446487.34 examples/s]"
          }
        },
        "23376e5e9e4549c88842db32dc5d5079": {
          "model_module": "@jupyter-widgets/base",
          "model_module_version": "1.2.0",
          "model_name": "LayoutModel",
          "state": {
            "_model_module": "@jupyter-widgets/base",
            "_model_module_version": "1.2.0",
            "_model_name": "LayoutModel",
            "_view_count": null,
            "_view_module": "@jupyter-widgets/base",
            "_view_module_version": "1.2.0",
            "_view_name": "LayoutView",
            "align_content": null,
            "align_items": null,
            "align_self": null,
            "border": null,
            "bottom": null,
            "display": null,
            "flex": null,
            "flex_flow": null,
            "grid_area": null,
            "grid_auto_columns": null,
            "grid_auto_flow": null,
            "grid_auto_rows": null,
            "grid_column": null,
            "grid_gap": null,
            "grid_row": null,
            "grid_template_areas": null,
            "grid_template_columns": null,
            "grid_template_rows": null,
            "height": null,
            "justify_content": null,
            "justify_items": null,
            "left": null,
            "margin": null,
            "max_height": null,
            "max_width": null,
            "min_height": null,
            "min_width": null,
            "object_fit": null,
            "object_position": null,
            "order": null,
            "overflow": null,
            "overflow_x": null,
            "overflow_y": null,
            "padding": null,
            "right": null,
            "top": null,
            "visibility": null,
            "width": null
          }
        },
        "37efa5d05ad747c4bdd8d0853a1d5777": {
          "model_module": "@jupyter-widgets/controls",
          "model_module_version": "1.5.0",
          "model_name": "HBoxModel",
          "state": {
            "_dom_classes": [],
            "_model_module": "@jupyter-widgets/controls",
            "_model_module_version": "1.5.0",
            "_model_name": "HBoxModel",
            "_view_count": null,
            "_view_module": "@jupyter-widgets/controls",
            "_view_module_version": "1.5.0",
            "_view_name": "HBoxView",
            "box_style": "",
            "children": [
              "IPY_MODEL_dd02ff74f29d45e7905906611973a328",
              "IPY_MODEL_aff0347b57704af8b55cd800a37bf59a",
              "IPY_MODEL_73965604175049a6a1b74217535b7530"
            ],
            "layout": "IPY_MODEL_f58155af107349899ff339e1b97a9239"
          }
        },
        "3a3f3acb62804c428917d96d27e666cc": {
          "model_module": "@jupyter-widgets/base",
          "model_module_version": "1.2.0",
          "model_name": "LayoutModel",
          "state": {
            "_model_module": "@jupyter-widgets/base",
            "_model_module_version": "1.2.0",
            "_model_name": "LayoutModel",
            "_view_count": null,
            "_view_module": "@jupyter-widgets/base",
            "_view_module_version": "1.2.0",
            "_view_name": "LayoutView",
            "align_content": null,
            "align_items": null,
            "align_self": null,
            "border": null,
            "bottom": null,
            "display": null,
            "flex": null,
            "flex_flow": null,
            "grid_area": null,
            "grid_auto_columns": null,
            "grid_auto_flow": null,
            "grid_auto_rows": null,
            "grid_column": null,
            "grid_gap": null,
            "grid_row": null,
            "grid_template_areas": null,
            "grid_template_columns": null,
            "grid_template_rows": null,
            "height": null,
            "justify_content": null,
            "justify_items": null,
            "left": null,
            "margin": null,
            "max_height": null,
            "max_width": null,
            "min_height": null,
            "min_width": null,
            "object_fit": null,
            "object_position": null,
            "order": null,
            "overflow": null,
            "overflow_x": null,
            "overflow_y": null,
            "padding": null,
            "right": null,
            "top": null,
            "visibility": null,
            "width": null
          }
        },
        "3a54fc762a824a7ead29c766c483c221": {
          "model_module": "@jupyter-widgets/base",
          "model_module_version": "1.2.0",
          "model_name": "LayoutModel",
          "state": {
            "_model_module": "@jupyter-widgets/base",
            "_model_module_version": "1.2.0",
            "_model_name": "LayoutModel",
            "_view_count": null,
            "_view_module": "@jupyter-widgets/base",
            "_view_module_version": "1.2.0",
            "_view_name": "LayoutView",
            "align_content": null,
            "align_items": null,
            "align_self": null,
            "border": null,
            "bottom": null,
            "display": null,
            "flex": null,
            "flex_flow": null,
            "grid_area": null,
            "grid_auto_columns": null,
            "grid_auto_flow": null,
            "grid_auto_rows": null,
            "grid_column": null,
            "grid_gap": null,
            "grid_row": null,
            "grid_template_areas": null,
            "grid_template_columns": null,
            "grid_template_rows": null,
            "height": null,
            "justify_content": null,
            "justify_items": null,
            "left": null,
            "margin": null,
            "max_height": null,
            "max_width": null,
            "min_height": null,
            "min_width": null,
            "object_fit": null,
            "object_position": null,
            "order": null,
            "overflow": null,
            "overflow_x": null,
            "overflow_y": null,
            "padding": null,
            "right": null,
            "top": null,
            "visibility": null,
            "width": null
          }
        },
        "3a6ae9b76d5b4111aa443d4047aec04a": {
          "model_module": "@jupyter-widgets/controls",
          "model_module_version": "1.5.0",
          "model_name": "DescriptionStyleModel",
          "state": {
            "_model_module": "@jupyter-widgets/controls",
            "_model_module_version": "1.5.0",
            "_model_name": "DescriptionStyleModel",
            "_view_count": null,
            "_view_module": "@jupyter-widgets/base",
            "_view_module_version": "1.2.0",
            "_view_name": "StyleView",
            "description_width": ""
          }
        },
        "4c10951988e641c9b471f1329dcb81dc": {
          "model_module": "@jupyter-widgets/controls",
          "model_module_version": "1.5.0",
          "model_name": "DescriptionStyleModel",
          "state": {
            "_model_module": "@jupyter-widgets/controls",
            "_model_module_version": "1.5.0",
            "_model_name": "DescriptionStyleModel",
            "_view_count": null,
            "_view_module": "@jupyter-widgets/base",
            "_view_module_version": "1.2.0",
            "_view_name": "StyleView",
            "description_width": ""
          }
        },
        "62e119c994c44e109de1f5b913723c04": {
          "model_module": "@jupyter-widgets/base",
          "model_module_version": "1.2.0",
          "model_name": "LayoutModel",
          "state": {
            "_model_module": "@jupyter-widgets/base",
            "_model_module_version": "1.2.0",
            "_model_name": "LayoutModel",
            "_view_count": null,
            "_view_module": "@jupyter-widgets/base",
            "_view_module_version": "1.2.0",
            "_view_name": "LayoutView",
            "align_content": null,
            "align_items": null,
            "align_self": null,
            "border": null,
            "bottom": null,
            "display": null,
            "flex": null,
            "flex_flow": null,
            "grid_area": null,
            "grid_auto_columns": null,
            "grid_auto_flow": null,
            "grid_auto_rows": null,
            "grid_column": null,
            "grid_gap": null,
            "grid_row": null,
            "grid_template_areas": null,
            "grid_template_columns": null,
            "grid_template_rows": null,
            "height": null,
            "justify_content": null,
            "justify_items": null,
            "left": null,
            "margin": null,
            "max_height": null,
            "max_width": null,
            "min_height": null,
            "min_width": null,
            "object_fit": null,
            "object_position": null,
            "order": null,
            "overflow": null,
            "overflow_x": null,
            "overflow_y": null,
            "padding": null,
            "right": null,
            "top": null,
            "visibility": null,
            "width": null
          }
        },
        "73965604175049a6a1b74217535b7530": {
          "model_module": "@jupyter-widgets/controls",
          "model_module_version": "1.5.0",
          "model_name": "HTMLModel",
          "state": {
            "_dom_classes": [],
            "_model_module": "@jupyter-widgets/controls",
            "_model_module_version": "1.5.0",
            "_model_name": "HTMLModel",
            "_view_count": null,
            "_view_module": "@jupyter-widgets/controls",
            "_view_module_version": "1.5.0",
            "_view_name": "HTMLView",
            "description": "",
            "description_tooltip": null,
            "layout": "IPY_MODEL_23376e5e9e4549c88842db32dc5d5079",
            "placeholder": "​",
            "style": "IPY_MODEL_ff2fad7433464688b8cdd57bfd9a8232",
            "value": " 43.2M/43.2M [00:00&lt;00:00, 73.9MB/s]"
          }
        },
        "84fa40cb2b6e4bce9d0b0861484e6d41": {
          "model_module": "@jupyter-widgets/base",
          "model_module_version": "1.2.0",
          "model_name": "LayoutModel",
          "state": {
            "_model_module": "@jupyter-widgets/base",
            "_model_module_version": "1.2.0",
            "_model_name": "LayoutModel",
            "_view_count": null,
            "_view_module": "@jupyter-widgets/base",
            "_view_module_version": "1.2.0",
            "_view_name": "LayoutView",
            "align_content": null,
            "align_items": null,
            "align_self": null,
            "border": null,
            "bottom": null,
            "display": null,
            "flex": null,
            "flex_flow": null,
            "grid_area": null,
            "grid_auto_columns": null,
            "grid_auto_flow": null,
            "grid_auto_rows": null,
            "grid_column": null,
            "grid_gap": null,
            "grid_row": null,
            "grid_template_areas": null,
            "grid_template_columns": null,
            "grid_template_rows": null,
            "height": null,
            "justify_content": null,
            "justify_items": null,
            "left": null,
            "margin": null,
            "max_height": null,
            "max_width": null,
            "min_height": null,
            "min_width": null,
            "object_fit": null,
            "object_position": null,
            "order": null,
            "overflow": null,
            "overflow_x": null,
            "overflow_y": null,
            "padding": null,
            "right": null,
            "top": null,
            "visibility": null,
            "width": null
          }
        },
        "85bb96b8a851422a8cae1e8240cdd5c8": {
          "model_module": "@jupyter-widgets/controls",
          "model_module_version": "1.5.0",
          "model_name": "HTMLModel",
          "state": {
            "_dom_classes": [],
            "_model_module": "@jupyter-widgets/controls",
            "_model_module_version": "1.5.0",
            "_model_name": "HTMLModel",
            "_view_count": null,
            "_view_module": "@jupyter-widgets/controls",
            "_view_module_version": "1.5.0",
            "_view_name": "HTMLView",
            "description": "",
            "description_tooltip": null,
            "layout": "IPY_MODEL_62e119c994c44e109de1f5b913723c04",
            "placeholder": "​",
            "style": "IPY_MODEL_c7b6d193102b4337a59db5a8fc5a7943",
            "value": "README.md: 100%"
          }
        },
        "909a3cba91904abebd8034179990807f": {
          "model_module": "@jupyter-widgets/controls",
          "model_module_version": "1.5.0",
          "model_name": "HTMLModel",
          "state": {
            "_dom_classes": [],
            "_model_module": "@jupyter-widgets/controls",
            "_model_module_version": "1.5.0",
            "_model_name": "HTMLModel",
            "_view_count": null,
            "_view_module": "@jupyter-widgets/controls",
            "_view_module_version": "1.5.0",
            "_view_name": "HTMLView",
            "description": "",
            "description_tooltip": null,
            "layout": "IPY_MODEL_3a54fc762a824a7ead29c766c483c221",
            "placeholder": "​",
            "style": "IPY_MODEL_4c10951988e641c9b471f1329dcb81dc",
            "value": " 313/313 [00:00&lt;00:00, 37.2kB/s]"
          }
        },
        "a66c3388ff8e4dde850002b605a6fae7": {
          "model_module": "@jupyter-widgets/controls",
          "model_module_version": "1.5.0",
          "model_name": "HBoxModel",
          "state": {
            "_dom_classes": [],
            "_model_module": "@jupyter-widgets/controls",
            "_model_module_version": "1.5.0",
            "_model_name": "HBoxModel",
            "_view_count": null,
            "_view_module": "@jupyter-widgets/controls",
            "_view_module_version": "1.5.0",
            "_view_name": "HBoxView",
            "box_style": "",
            "children": [
              "IPY_MODEL_85bb96b8a851422a8cae1e8240cdd5c8",
              "IPY_MODEL_b7ddf4fe0901458bb9257a9d819d9329",
              "IPY_MODEL_909a3cba91904abebd8034179990807f"
            ],
            "layout": "IPY_MODEL_0f9f797020194a85a6e6d1ed162c6450"
          }
        },
        "aff0347b57704af8b55cd800a37bf59a": {
          "model_module": "@jupyter-widgets/controls",
          "model_module_version": "1.5.0",
          "model_name": "FloatProgressModel",
          "state": {
            "_dom_classes": [],
            "_model_module": "@jupyter-widgets/controls",
            "_model_module_version": "1.5.0",
            "_model_name": "FloatProgressModel",
            "_view_count": null,
            "_view_module": "@jupyter-widgets/controls",
            "_view_module_version": "1.5.0",
            "_view_name": "ProgressView",
            "bar_style": "success",
            "description": "",
            "description_tooltip": null,
            "layout": "IPY_MODEL_e9798928ef5545e9a5b6fdedb045457d",
            "max": 43151696,
            "min": 0,
            "orientation": "horizontal",
            "style": "IPY_MODEL_c70769fefa6c4aeea6e09516491ecc87",
            "value": 43151696
          }
        },
        "b7ddf4fe0901458bb9257a9d819d9329": {
          "model_module": "@jupyter-widgets/controls",
          "model_module_version": "1.5.0",
          "model_name": "FloatProgressModel",
          "state": {
            "_dom_classes": [],
            "_model_module": "@jupyter-widgets/controls",
            "_model_module_version": "1.5.0",
            "_model_name": "FloatProgressModel",
            "_view_count": null,
            "_view_module": "@jupyter-widgets/controls",
            "_view_module_version": "1.5.0",
            "_view_name": "ProgressView",
            "bar_style": "success",
            "description": "",
            "description_tooltip": null,
            "layout": "IPY_MODEL_3a3f3acb62804c428917d96d27e666cc",
            "max": 313,
            "min": 0,
            "orientation": "horizontal",
            "style": "IPY_MODEL_f4ea4b7e6c51433a94caa7411f02f065",
            "value": 313
          }
        },
        "bf5cf11bf03045189334ffb32281ca48": {
          "model_module": "@jupyter-widgets/base",
          "model_module_version": "1.2.0",
          "model_name": "LayoutModel",
          "state": {
            "_model_module": "@jupyter-widgets/base",
            "_model_module_version": "1.2.0",
            "_model_name": "LayoutModel",
            "_view_count": null,
            "_view_module": "@jupyter-widgets/base",
            "_view_module_version": "1.2.0",
            "_view_name": "LayoutView",
            "align_content": null,
            "align_items": null,
            "align_self": null,
            "border": null,
            "bottom": null,
            "display": null,
            "flex": null,
            "flex_flow": null,
            "grid_area": null,
            "grid_auto_columns": null,
            "grid_auto_flow": null,
            "grid_auto_rows": null,
            "grid_column": null,
            "grid_gap": null,
            "grid_row": null,
            "grid_template_areas": null,
            "grid_template_columns": null,
            "grid_template_rows": null,
            "height": null,
            "justify_content": null,
            "justify_items": null,
            "left": null,
            "margin": null,
            "max_height": null,
            "max_width": null,
            "min_height": null,
            "min_width": null,
            "object_fit": null,
            "object_position": null,
            "order": null,
            "overflow": null,
            "overflow_x": null,
            "overflow_y": null,
            "padding": null,
            "right": null,
            "top": null,
            "visibility": null,
            "width": null
          }
        },
        "c70769fefa6c4aeea6e09516491ecc87": {
          "model_module": "@jupyter-widgets/controls",
          "model_module_version": "1.5.0",
          "model_name": "ProgressStyleModel",
          "state": {
            "_model_module": "@jupyter-widgets/controls",
            "_model_module_version": "1.5.0",
            "_model_name": "ProgressStyleModel",
            "_view_count": null,
            "_view_module": "@jupyter-widgets/base",
            "_view_module_version": "1.2.0",
            "_view_name": "StyleView",
            "bar_color": null,
            "description_width": ""
          }
        },
        "c7b6d193102b4337a59db5a8fc5a7943": {
          "model_module": "@jupyter-widgets/controls",
          "model_module_version": "1.5.0",
          "model_name": "DescriptionStyleModel",
          "state": {
            "_model_module": "@jupyter-widgets/controls",
            "_model_module_version": "1.5.0",
            "_model_name": "DescriptionStyleModel",
            "_view_count": null,
            "_view_module": "@jupyter-widgets/base",
            "_view_module_version": "1.2.0",
            "_view_name": "StyleView",
            "description_width": ""
          }
        },
        "c8e39441bd944652b2c3e446f12243d8": {
          "model_module": "@jupyter-widgets/base",
          "model_module_version": "1.2.0",
          "model_name": "LayoutModel",
          "state": {
            "_model_module": "@jupyter-widgets/base",
            "_model_module_version": "1.2.0",
            "_model_name": "LayoutModel",
            "_view_count": null,
            "_view_module": "@jupyter-widgets/base",
            "_view_module_version": "1.2.0",
            "_view_name": "LayoutView",
            "align_content": null,
            "align_items": null,
            "align_self": null,
            "border": null,
            "bottom": null,
            "display": null,
            "flex": null,
            "flex_flow": null,
            "grid_area": null,
            "grid_auto_columns": null,
            "grid_auto_flow": null,
            "grid_auto_rows": null,
            "grid_column": null,
            "grid_gap": null,
            "grid_row": null,
            "grid_template_areas": null,
            "grid_template_columns": null,
            "grid_template_rows": null,
            "height": null,
            "justify_content": null,
            "justify_items": null,
            "left": null,
            "margin": null,
            "max_height": null,
            "max_width": null,
            "min_height": null,
            "min_width": null,
            "object_fit": null,
            "object_position": null,
            "order": null,
            "overflow": null,
            "overflow_x": null,
            "overflow_y": null,
            "padding": null,
            "right": null,
            "top": null,
            "visibility": null,
            "width": null
          }
        },
        "cf6b4a7146ed46049d4353f9d47af52c": {
          "model_module": "@jupyter-widgets/base",
          "model_module_version": "1.2.0",
          "model_name": "LayoutModel",
          "state": {
            "_model_module": "@jupyter-widgets/base",
            "_model_module_version": "1.2.0",
            "_model_name": "LayoutModel",
            "_view_count": null,
            "_view_module": "@jupyter-widgets/base",
            "_view_module_version": "1.2.0",
            "_view_name": "LayoutView",
            "align_content": null,
            "align_items": null,
            "align_self": null,
            "border": null,
            "bottom": null,
            "display": null,
            "flex": null,
            "flex_flow": null,
            "grid_area": null,
            "grid_auto_columns": null,
            "grid_auto_flow": null,
            "grid_auto_rows": null,
            "grid_column": null,
            "grid_gap": null,
            "grid_row": null,
            "grid_template_areas": null,
            "grid_template_columns": null,
            "grid_template_rows": null,
            "height": null,
            "justify_content": null,
            "justify_items": null,
            "left": null,
            "margin": null,
            "max_height": null,
            "max_width": null,
            "min_height": null,
            "min_width": null,
            "object_fit": null,
            "object_position": null,
            "order": null,
            "overflow": null,
            "overflow_x": null,
            "overflow_y": null,
            "padding": null,
            "right": null,
            "top": null,
            "visibility": null,
            "width": null
          }
        },
        "d7b7cb23948a47aa9eabb8fd2dbb05b4": {
          "model_module": "@jupyter-widgets/base",
          "model_module_version": "1.2.0",
          "model_name": "LayoutModel",
          "state": {
            "_model_module": "@jupyter-widgets/base",
            "_model_module_version": "1.2.0",
            "_model_name": "LayoutModel",
            "_view_count": null,
            "_view_module": "@jupyter-widgets/base",
            "_view_module_version": "1.2.0",
            "_view_name": "LayoutView",
            "align_content": null,
            "align_items": null,
            "align_self": null,
            "border": null,
            "bottom": null,
            "display": null,
            "flex": null,
            "flex_flow": null,
            "grid_area": null,
            "grid_auto_columns": null,
            "grid_auto_flow": null,
            "grid_auto_rows": null,
            "grid_column": null,
            "grid_gap": null,
            "grid_row": null,
            "grid_template_areas": null,
            "grid_template_columns": null,
            "grid_template_rows": null,
            "height": null,
            "justify_content": null,
            "justify_items": null,
            "left": null,
            "margin": null,
            "max_height": null,
            "max_width": null,
            "min_height": null,
            "min_width": null,
            "object_fit": null,
            "object_position": null,
            "order": null,
            "overflow": null,
            "overflow_x": null,
            "overflow_y": null,
            "padding": null,
            "right": null,
            "top": null,
            "visibility": null,
            "width": null
          }
        },
        "dd02ff74f29d45e7905906611973a328": {
          "model_module": "@jupyter-widgets/controls",
          "model_module_version": "1.5.0",
          "model_name": "HTMLModel",
          "state": {
            "_dom_classes": [],
            "_model_module": "@jupyter-widgets/controls",
            "_model_module_version": "1.5.0",
            "_model_name": "HTMLModel",
            "_view_count": null,
            "_view_module": "@jupyter-widgets/controls",
            "_view_module_version": "1.5.0",
            "_view_name": "HTMLView",
            "description": "",
            "description_tooltip": null,
            "layout": "IPY_MODEL_c8e39441bd944652b2c3e446f12243d8",
            "placeholder": "​",
            "style": "IPY_MODEL_e1e5a19988e04fc4a7bc06da41ed37c1",
            "value": "train-00000-of-00001.parquet: 100%"
          }
        },
        "e1e5a19988e04fc4a7bc06da41ed37c1": {
          "model_module": "@jupyter-widgets/controls",
          "model_module_version": "1.5.0",
          "model_name": "DescriptionStyleModel",
          "state": {
            "_model_module": "@jupyter-widgets/controls",
            "_model_module_version": "1.5.0",
            "_model_name": "DescriptionStyleModel",
            "_view_count": null,
            "_view_module": "@jupyter-widgets/base",
            "_view_module_version": "1.2.0",
            "_view_name": "StyleView",
            "description_width": ""
          }
        },
        "e850d577e29b4e0f91c7d47e8a251ad9": {
          "model_module": "@jupyter-widgets/controls",
          "model_module_version": "1.5.0",
          "model_name": "ProgressStyleModel",
          "state": {
            "_model_module": "@jupyter-widgets/controls",
            "_model_module_version": "1.5.0",
            "_model_name": "ProgressStyleModel",
            "_view_count": null,
            "_view_module": "@jupyter-widgets/base",
            "_view_module_version": "1.2.0",
            "_view_name": "StyleView",
            "bar_color": null,
            "description_width": ""
          }
        },
        "e9798928ef5545e9a5b6fdedb045457d": {
          "model_module": "@jupyter-widgets/base",
          "model_module_version": "1.2.0",
          "model_name": "LayoutModel",
          "state": {
            "_model_module": "@jupyter-widgets/base",
            "_model_module_version": "1.2.0",
            "_model_name": "LayoutModel",
            "_view_count": null,
            "_view_module": "@jupyter-widgets/base",
            "_view_module_version": "1.2.0",
            "_view_name": "LayoutView",
            "align_content": null,
            "align_items": null,
            "align_self": null,
            "border": null,
            "bottom": null,
            "display": null,
            "flex": null,
            "flex_flow": null,
            "grid_area": null,
            "grid_auto_columns": null,
            "grid_auto_flow": null,
            "grid_auto_rows": null,
            "grid_column": null,
            "grid_gap": null,
            "grid_row": null,
            "grid_template_areas": null,
            "grid_template_columns": null,
            "grid_template_rows": null,
            "height": null,
            "justify_content": null,
            "justify_items": null,
            "left": null,
            "margin": null,
            "max_height": null,
            "max_width": null,
            "min_height": null,
            "min_width": null,
            "object_fit": null,
            "object_position": null,
            "order": null,
            "overflow": null,
            "overflow_x": null,
            "overflow_y": null,
            "padding": null,
            "right": null,
            "top": null,
            "visibility": null,
            "width": null
          }
        },
        "eb0eaa022dcd45ffabdcf2925bc9fd2c": {
          "model_module": "@jupyter-widgets/controls",
          "model_module_version": "1.5.0",
          "model_name": "FloatProgressModel",
          "state": {
            "_dom_classes": [],
            "_model_module": "@jupyter-widgets/controls",
            "_model_module_version": "1.5.0",
            "_model_name": "FloatProgressModel",
            "_view_count": null,
            "_view_module": "@jupyter-widgets/controls",
            "_view_module_version": "1.5.0",
            "_view_name": "ProgressView",
            "bar_style": "success",
            "description": "",
            "description_tooltip": null,
            "layout": "IPY_MODEL_84fa40cb2b6e4bce9d0b0861484e6d41",
            "max": 505342,
            "min": 0,
            "orientation": "horizontal",
            "style": "IPY_MODEL_e850d577e29b4e0f91c7d47e8a251ad9",
            "value": 505342
          }
        },
        "ecaa95d05faf492594bdc483b0fec5c1": {
          "model_module": "@jupyter-widgets/controls",
          "model_module_version": "1.5.0",
          "model_name": "HTMLModel",
          "state": {
            "_dom_classes": [],
            "_model_module": "@jupyter-widgets/controls",
            "_model_module_version": "1.5.0",
            "_model_name": "HTMLModel",
            "_view_count": null,
            "_view_module": "@jupyter-widgets/controls",
            "_view_module_version": "1.5.0",
            "_view_name": "HTMLView",
            "description": "",
            "description_tooltip": null,
            "layout": "IPY_MODEL_d7b7cb23948a47aa9eabb8fd2dbb05b4",
            "placeholder": "​",
            "style": "IPY_MODEL_fb795ec8a178475da3a43a93281432d0",
            "value": "Generating train split: 100%"
          }
        },
        "f4ea4b7e6c51433a94caa7411f02f065": {
          "model_module": "@jupyter-widgets/controls",
          "model_module_version": "1.5.0",
          "model_name": "ProgressStyleModel",
          "state": {
            "_model_module": "@jupyter-widgets/controls",
            "_model_module_version": "1.5.0",
            "_model_name": "ProgressStyleModel",
            "_view_count": null,
            "_view_module": "@jupyter-widgets/base",
            "_view_module_version": "1.2.0",
            "_view_name": "StyleView",
            "bar_color": null,
            "description_width": ""
          }
        },
        "f58155af107349899ff339e1b97a9239": {
          "model_module": "@jupyter-widgets/base",
          "model_module_version": "1.2.0",
          "model_name": "LayoutModel",
          "state": {
            "_model_module": "@jupyter-widgets/base",
            "_model_module_version": "1.2.0",
            "_model_name": "LayoutModel",
            "_view_count": null,
            "_view_module": "@jupyter-widgets/base",
            "_view_module_version": "1.2.0",
            "_view_name": "LayoutView",
            "align_content": null,
            "align_items": null,
            "align_self": null,
            "border": null,
            "bottom": null,
            "display": null,
            "flex": null,
            "flex_flow": null,
            "grid_area": null,
            "grid_auto_columns": null,
            "grid_auto_flow": null,
            "grid_auto_rows": null,
            "grid_column": null,
            "grid_gap": null,
            "grid_row": null,
            "grid_template_areas": null,
            "grid_template_columns": null,
            "grid_template_rows": null,
            "height": null,
            "justify_content": null,
            "justify_items": null,
            "left": null,
            "margin": null,
            "max_height": null,
            "max_width": null,
            "min_height": null,
            "min_width": null,
            "object_fit": null,
            "object_position": null,
            "order": null,
            "overflow": null,
            "overflow_x": null,
            "overflow_y": null,
            "padding": null,
            "right": null,
            "top": null,
            "visibility": null,
            "width": null
          }
        },
        "fb795ec8a178475da3a43a93281432d0": {
          "model_module": "@jupyter-widgets/controls",
          "model_module_version": "1.5.0",
          "model_name": "DescriptionStyleModel",
          "state": {
            "_model_module": "@jupyter-widgets/controls",
            "_model_module_version": "1.5.0",
            "_model_name": "DescriptionStyleModel",
            "_view_count": null,
            "_view_module": "@jupyter-widgets/base",
            "_view_module_version": "1.2.0",
            "_view_name": "StyleView",
            "description_width": ""
          }
        },
        "ff2fad7433464688b8cdd57bfd9a8232": {
          "model_module": "@jupyter-widgets/controls",
          "model_module_version": "1.5.0",
          "model_name": "DescriptionStyleModel",
          "state": {
            "_model_module": "@jupyter-widgets/controls",
            "_model_module_version": "1.5.0",
            "_model_name": "DescriptionStyleModel",
            "_view_count": null,
            "_view_module": "@jupyter-widgets/base",
            "_view_module_version": "1.2.0",
            "_view_name": "StyleView",
            "description_width": ""
          }
        }
      }
    }
  },
  "nbformat": 4,
  "nbformat_minor": 0
}
